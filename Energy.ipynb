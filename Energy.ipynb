{
  "nbformat": 4,
  "nbformat_minor": 0,
  "metadata": {
    "colab": {
      "name": "Energy.ipynb",
      "provenance": [],
      "collapsed_sections": [],
      "include_colab_link": true
    },
    "kernelspec": {
      "name": "python3",
      "display_name": "Python 3"
    },
    "language_info": {
      "name": "python"
    },
    "accelerator": "GPU"
  },
  "cells": [
    {
      "cell_type": "markdown",
      "metadata": {
        "id": "view-in-github",
        "colab_type": "text"
      },
      "source": [
        "<a href=\"https://colab.research.google.com/github/ricbarraes/infovis1/blob/main/Energy.ipynb\" target=\"_parent\"><img src=\"https://colab.research.google.com/assets/colab-badge.svg\" alt=\"Open In Colab\"/></a>"
      ]
    },
    {
      "cell_type": "code",
      "metadata": {
        "colab": {
          "base_uri": "https://localhost:8080/"
        },
        "id": "Nq6fINrzZ9sJ",
        "outputId": "debbf158-6cfe-4fde-fb35-fcebb880a8e6"
      },
      "source": [
        "!pip install altair"
      ],
      "execution_count": null,
      "outputs": [
        {
          "output_type": "stream",
          "text": [
            "Requirement already satisfied: altair in /usr/local/lib/python3.7/dist-packages (4.1.0)\n",
            "Requirement already satisfied: jinja2 in /usr/local/lib/python3.7/dist-packages (from altair) (2.11.3)\n",
            "Requirement already satisfied: numpy in /usr/local/lib/python3.7/dist-packages (from altair) (1.19.5)\n",
            "Requirement already satisfied: toolz in /usr/local/lib/python3.7/dist-packages (from altair) (0.11.1)\n",
            "Requirement already satisfied: pandas>=0.18 in /usr/local/lib/python3.7/dist-packages (from altair) (1.1.5)\n",
            "Requirement already satisfied: jsonschema in /usr/local/lib/python3.7/dist-packages (from altair) (2.6.0)\n",
            "Requirement already satisfied: entrypoints in /usr/local/lib/python3.7/dist-packages (from altair) (0.3)\n",
            "Requirement already satisfied: MarkupSafe>=0.23 in /usr/local/lib/python3.7/dist-packages (from jinja2->altair) (2.0.1)\n",
            "Requirement already satisfied: python-dateutil>=2.7.3 in /usr/local/lib/python3.7/dist-packages (from pandas>=0.18->altair) (2.8.1)\n",
            "Requirement already satisfied: pytz>=2017.2 in /usr/local/lib/python3.7/dist-packages (from pandas>=0.18->altair) (2018.9)\n",
            "Requirement already satisfied: six>=1.5 in /usr/local/lib/python3.7/dist-packages (from python-dateutil>=2.7.3->pandas>=0.18->altair) (1.15.0)\n"
          ],
          "name": "stdout"
        }
      ]
    },
    {
      "cell_type": "code",
      "metadata": {
        "id": "1Kru_26haI4y"
      },
      "source": [
        "import pandas as pd\n",
        "import altair as alt"
      ],
      "execution_count": null,
      "outputs": []
    },
    {
      "cell_type": "code",
      "metadata": {
        "id": "Oz0cxPD7aLE1"
      },
      "source": [
        "df= pd.read_csv(\"energy.csv\")"
      ],
      "execution_count": null,
      "outputs": []
    },
    {
      "cell_type": "markdown",
      "metadata": {
        "id": "7szmO0uafOGn"
      },
      "source": [
        "# Total de centrais nucleares por região"
      ]
    },
    {
      "cell_type": "code",
      "metadata": {
        "colab": {
          "base_uri": "https://localhost:8080/",
          "height": 980
        },
        "id": "A1YVKSqwyPdB",
        "outputId": "634d9d56-f655-4652-c4a6-bd657491a739"
      },
      "source": [
        "bars = alt.Chart(source).mark_bar().encode(\n",
        "    x= alt.X('Value:Q', title = \"Número de centrais nucleares\"),\n",
        "y=alt.Y('Region:O', sort='-x', title = \"Região\"),\n",
        "    color='Region').properties(height=900, width = 900, title = \"Número total de centrais nucleares \")\n",
        "text = bars.mark_text(\n",
        "    align = 'left',\n",
        "    baseline = 'middle',\n",
        "    dx=3  \n",
        ").encode(\n",
        "    text = 'Value:Q'\n",
        ")\n",
        "alt.layer(bars, text).configure_view(\n",
        "    stroke = 'transparent'\n",
        ").configure_axis(grid = False,\n",
        "    domainWidth = 0.8\n",
        ")\n"
      ],
      "execution_count": null,
      "outputs": [
        {
          "output_type": "execute_result",
          "data": {
            "text/plain": [
              "alt.LayerChart(...)"
            ],
            "text/html": [
              "\n",
              "<div id=\"altair-viz-81a512098e534a27a1274b3f9dc1e772\"></div>\n",
              "<script type=\"text/javascript\">\n",
              "  (function(spec, embedOpt){\n",
              "    let outputDiv = document.currentScript.previousElementSibling;\n",
              "    if (outputDiv.id !== \"altair-viz-81a512098e534a27a1274b3f9dc1e772\") {\n",
              "      outputDiv = document.getElementById(\"altair-viz-81a512098e534a27a1274b3f9dc1e772\");\n",
              "    }\n",
              "    const paths = {\n",
              "      \"vega\": \"https://cdn.jsdelivr.net/npm//vega@5?noext\",\n",
              "      \"vega-lib\": \"https://cdn.jsdelivr.net/npm//vega-lib?noext\",\n",
              "      \"vega-lite\": \"https://cdn.jsdelivr.net/npm//vega-lite@4.8.1?noext\",\n",
              "      \"vega-embed\": \"https://cdn.jsdelivr.net/npm//vega-embed@6?noext\",\n",
              "    };\n",
              "\n",
              "    function loadScript(lib) {\n",
              "      return new Promise(function(resolve, reject) {\n",
              "        var s = document.createElement('script');\n",
              "        s.src = paths[lib];\n",
              "        s.async = true;\n",
              "        s.onload = () => resolve(paths[lib]);\n",
              "        s.onerror = () => reject(`Error loading script: ${paths[lib]}`);\n",
              "        document.getElementsByTagName(\"head\")[0].appendChild(s);\n",
              "      });\n",
              "    }\n",
              "\n",
              "    function showError(err) {\n",
              "      outputDiv.innerHTML = `<div class=\"error\" style=\"color:red;\">${err}</div>`;\n",
              "      throw err;\n",
              "    }\n",
              "\n",
              "    function displayChart(vegaEmbed) {\n",
              "      vegaEmbed(outputDiv, spec, embedOpt)\n",
              "        .catch(err => showError(`Javascript Error: ${err.message}<br>This usually means there's a typo in your chart specification. See the javascript console for the full traceback.`));\n",
              "    }\n",
              "\n",
              "    if(typeof define === \"function\" && define.amd) {\n",
              "      requirejs.config({paths});\n",
              "      require([\"vega-embed\"], displayChart, err => showError(`Error loading script: ${err.message}`));\n",
              "    } else if (typeof vegaEmbed === \"function\") {\n",
              "      displayChart(vegaEmbed);\n",
              "    } else {\n",
              "      loadScript(\"vega\")\n",
              "        .then(() => loadScript(\"vega-lite\"))\n",
              "        .then(() => loadScript(\"vega-embed\"))\n",
              "        .catch(showError)\n",
              "        .then(() => displayChart(vegaEmbed));\n",
              "    }\n",
              "  })({\"config\": {\"view\": {\"continuousWidth\": 400, \"continuousHeight\": 300, \"stroke\": \"transparent\"}, \"axis\": {\"domainWidth\": 0.8, \"grid\": false}}, \"layer\": [{\"mark\": \"bar\", \"encoding\": {\"color\": {\"type\": \"nominal\", \"field\": \"Region\"}, \"x\": {\"type\": \"quantitative\", \"field\": \"Value\", \"title\": \"Number of Nuclear Power Plant\"}, \"y\": {\"type\": \"ordinal\", \"field\": \"Region\", \"sort\": \"-x\", \"title\": \"Region\"}}, \"height\": 900, \"title\": \"Total number of Nuclear Power Plants by Region \", \"width\": 900}, {\"mark\": {\"type\": \"text\", \"align\": \"left\", \"baseline\": \"middle\", \"dx\": 3}, \"encoding\": {\"color\": {\"type\": \"nominal\", \"field\": \"Region\"}, \"text\": {\"type\": \"quantitative\", \"field\": \"Value\"}, \"x\": {\"type\": \"quantitative\", \"field\": \"Value\", \"title\": \"Number of Nuclear Power Plant\"}, \"y\": {\"type\": \"ordinal\", \"field\": \"Region\", \"sort\": \"-x\", \"title\": \"Region\"}}, \"height\": 900, \"title\": \"Total number of Nuclear Power Plants by Region \", \"width\": 900}], \"data\": {\"name\": \"data-0cbb2deea35e6f2babe6795d4caad56b\"}, \"$schema\": \"https://vega.github.io/schema/vega-lite/v4.8.1.json\", \"datasets\": {\"data-0cbb2deea35e6f2babe6795d4caad56b\": [{\"Region\": \"Africa\", \"Plant\": 1, \"Value\": 1}, {\"Region\": \"America - Latin\", \"Plant\": 1, \"Value\": 4}, {\"Region\": \"America - Northern\", \"Plant\": 1, \"Value\": 92}, {\"Region\": \"Asia - Far East\", \"Plant\": 1, \"Value\": 44}, {\"Region\": \"Asia - Middle East and South\", \"Plant\": 1, \"Value\": 10}, {\"Region\": \"Europe - Central and Eastern\", \"Plant\": 1, \"Value\": 29}, {\"Region\": \"Europe - Western\", \"Plant\": 1, \"Value\": 93}]}}, {\"mode\": \"vega-lite\"});\n",
              "</script>"
            ]
          },
          "metadata": {
            "tags": []
          },
          "execution_count": 7
        }
      ]
    },
    {
      "cell_type": "markdown",
      "metadata": {
        "id": "SXlhWp1k5dY-"
      },
      "source": [
        "# Podemos afirmar que o crescimento do número de centrais nucleares implica diretamente no aumento da exposição da população?"
      ]
    },
    {
      "cell_type": "markdown",
      "metadata": {
        "id": "vVE50f1hjXeK"
      },
      "source": [
        "De maneira geral, podemos identificar que, sim, à medida que os países avançam no uso de energia nuclear e aumentam os investimentos em centrais nucleares, identificamos um crescimento da exposição da população (rural e urbana) independentemente da sua distância. No entanto, é importante observarmos que o Leste Europeu foge desse padrão e, observando o seu histórico com energia nuclear e o desastre de Chernobyl em 1986, é justificavel esse comportamento de cautela e evacuação dessas regiões mais próximas e expostas."
      ]
    },
    {
      "cell_type": "markdown",
      "metadata": {
        "id": "dRFwjRnSnOWE"
      },
      "source": [
        "# Regiões com o maior número de centrais nucleares são os países com o maior número da população exposta?"
      ]
    },
    {
      "cell_type": "markdown",
      "metadata": {
        "id": "Gcbs-MfIn3KT"
      },
      "source": [
        "Não necessariamente. De forma geral, são regiões que, de fato, se destacam no gráfico, principalmente por se tratarem de regiões bastante populosas. No entanto, levando em consideração que a América do Norte é a segunda região com a maior número de centrais nucleares (atrás da Europa ocidental por uma central) a exposição da população (rural e urbana) é comparável à exposição da Europa Oriental que é apenas a quarta região com maior número de centrais nucleares (aproximadamente um terço da quantidade de centrais nucleares da América do Norte). Além dessa comparação, podemos evidenciar que essa relação entre centrais nucleares não é verídica comparando os números da própria América do Norte com a Europa Ocidental, onde a diferença é de apenas uma central nuclear, porém a exposição da população é na Europa Ocidental é três vezes maior que na América do Norte."
      ]
    },
    {
      "cell_type": "code",
      "metadata": {
        "id": "InA6eTP85jdW"
      },
      "source": [
        "Year1990 = df.groupby('Region').p90r_30.sum()\n",
        "Year1990 = pd.DataFrame(Year1990)\n",
        "Year1990['Year'] = \"1990\"\n",
        "Year1990 = Year1990.reset_index()\n",
        "Year1990.rename(columns = {'p90r_30':'Value'}, inplace = True)\n",
        "Year2000 = df.groupby('Region').p00r_30.sum()\n",
        "Year2000 = pd.DataFrame(Year2000)\n",
        "Year2000['Year'] = \"2000\"\n",
        "Year2000 = Year2000.reset_index()\n",
        "Year2000.rename(columns = {'p00r_30':'Value'}, inplace = True)\n",
        "Year2010 = df.groupby('Region').p10r_30.sum()\n",
        "Year2010 = pd.DataFrame(Year2010)\n",
        "Year2010['Year'] = \"2010\"\n",
        "Year2010 = Year2010.reset_index()\n",
        "Year2010.rename(columns = {'p10r_30':'Value'}, inplace = True)\n",
        "source1 = Year1990.append(Year2000)\n",
        "source1 = source1.append(Year2010)"
      ],
      "execution_count": null,
      "outputs": []
    },
    {
      "cell_type": "code",
      "metadata": {
        "id": "v3HJbepDwXYg",
        "colab": {
          "base_uri": "https://localhost:8080/",
          "height": 1000
        },
        "outputId": "b56d45a4-5b36-413d-cb48-cbdacb7a0489"
      },
      "source": [
        "hbar = alt.Chart(source1).mark_bar().encode(\n",
        "    x = alt.X('sum(Value):Q',title = \"Rural Population\"),\n",
        "    y = alt.Y('Year:O', sort = '-x'), \n",
        "    color='Year:N',\n",
        "    row='Region:N'\n",
        ").properties(\n",
        "    width=800,\n",
        "    height=130, title = \"Total Rural Population exposure at 30 km over the years by region\"\n",
        ").configure_axis(grid = False,\n",
        "    domainWidth = 0.8\n",
        ")\n",
        "\n",
        "hbar"
      ],
      "execution_count": null,
      "outputs": [
        {
          "output_type": "execute_result",
          "data": {
            "text/plain": [
              "alt.Chart(...)"
            ],
            "text/html": [
              "\n",
              "<div id=\"altair-viz-08152ca3db2c43a3bdcf84c3307d62f9\"></div>\n",
              "<script type=\"text/javascript\">\n",
              "  (function(spec, embedOpt){\n",
              "    let outputDiv = document.currentScript.previousElementSibling;\n",
              "    if (outputDiv.id !== \"altair-viz-08152ca3db2c43a3bdcf84c3307d62f9\") {\n",
              "      outputDiv = document.getElementById(\"altair-viz-08152ca3db2c43a3bdcf84c3307d62f9\");\n",
              "    }\n",
              "    const paths = {\n",
              "      \"vega\": \"https://cdn.jsdelivr.net/npm//vega@5?noext\",\n",
              "      \"vega-lib\": \"https://cdn.jsdelivr.net/npm//vega-lib?noext\",\n",
              "      \"vega-lite\": \"https://cdn.jsdelivr.net/npm//vega-lite@4.8.1?noext\",\n",
              "      \"vega-embed\": \"https://cdn.jsdelivr.net/npm//vega-embed@6?noext\",\n",
              "    };\n",
              "\n",
              "    function loadScript(lib) {\n",
              "      return new Promise(function(resolve, reject) {\n",
              "        var s = document.createElement('script');\n",
              "        s.src = paths[lib];\n",
              "        s.async = true;\n",
              "        s.onload = () => resolve(paths[lib]);\n",
              "        s.onerror = () => reject(`Error loading script: ${paths[lib]}`);\n",
              "        document.getElementsByTagName(\"head\")[0].appendChild(s);\n",
              "      });\n",
              "    }\n",
              "\n",
              "    function showError(err) {\n",
              "      outputDiv.innerHTML = `<div class=\"error\" style=\"color:red;\">${err}</div>`;\n",
              "      throw err;\n",
              "    }\n",
              "\n",
              "    function displayChart(vegaEmbed) {\n",
              "      vegaEmbed(outputDiv, spec, embedOpt)\n",
              "        .catch(err => showError(`Javascript Error: ${err.message}<br>This usually means there's a typo in your chart specification. See the javascript console for the full traceback.`));\n",
              "    }\n",
              "\n",
              "    if(typeof define === \"function\" && define.amd) {\n",
              "      requirejs.config({paths});\n",
              "      require([\"vega-embed\"], displayChart, err => showError(`Error loading script: ${err.message}`));\n",
              "    } else if (typeof vegaEmbed === \"function\") {\n",
              "      displayChart(vegaEmbed);\n",
              "    } else {\n",
              "      loadScript(\"vega\")\n",
              "        .then(() => loadScript(\"vega-lite\"))\n",
              "        .then(() => loadScript(\"vega-embed\"))\n",
              "        .catch(showError)\n",
              "        .then(() => displayChart(vegaEmbed));\n",
              "    }\n",
              "  })({\"config\": {\"view\": {\"continuousWidth\": 400, \"continuousHeight\": 300}, \"axis\": {\"domainWidth\": 0.8, \"grid\": false}}, \"data\": {\"name\": \"data-d38034f539f5a5be2dd7f652bf4bdf2f\"}, \"mark\": \"bar\", \"encoding\": {\"color\": {\"type\": \"nominal\", \"field\": \"Year\"}, \"row\": {\"type\": \"nominal\", \"field\": \"Region\"}, \"x\": {\"type\": \"quantitative\", \"aggregate\": \"sum\", \"field\": \"Value\", \"title\": \"Rural Population\"}, \"y\": {\"type\": \"ordinal\", \"field\": \"Year\", \"sort\": \"-x\"}}, \"height\": 130, \"title\": \"Total Rural Population exposure at 30 km over the years by region\", \"width\": 800, \"$schema\": \"https://vega.github.io/schema/vega-lite/v4.8.1.json\", \"datasets\": {\"data-d38034f539f5a5be2dd7f652bf4bdf2f\": [{\"Region\": \"Africa\", \"Value\": 17546.2, \"Year\": \"1990\"}, {\"Region\": \"America - Latin\", \"Value\": 140386.1, \"Year\": \"1990\"}, {\"Region\": \"America - Northern\", \"Value\": 3008341.767, \"Year\": \"1990\"}, {\"Region\": \"Asia - Far East\", \"Value\": 8463427.780000001, \"Year\": \"1990\"}, {\"Region\": \"Asia - Middle East and South\", \"Value\": 3410020.8, \"Year\": \"1990\"}, {\"Region\": \"Europe - Central and Eastern\", \"Value\": 2268308.9999999995, \"Year\": \"1990\"}, {\"Region\": \"Europe - Western\", \"Value\": 12724055.41, \"Year\": \"1990\"}, {\"Region\": \"Africa\", \"Value\": 17824.5, \"Year\": \"2000\"}, {\"Region\": \"America - Latin\", \"Value\": 149137.5, \"Year\": \"2000\"}, {\"Region\": \"America - Northern\", \"Value\": 3238957.2830000003, \"Year\": \"2000\"}, {\"Region\": \"Asia - Far East\", \"Value\": 9464705.59, \"Year\": \"2000\"}, {\"Region\": \"Asia - Middle East and South\", \"Value\": 4161227.4000000004, \"Year\": \"2000\"}, {\"Region\": \"Europe - Central and Eastern\", \"Value\": 2206564.5519999997, \"Year\": \"2000\"}, {\"Region\": \"Europe - Western\", \"Value\": 13308249.120000001, \"Year\": \"2000\"}, {\"Region\": \"Africa\", \"Value\": 20131.9, \"Year\": \"2010\"}, {\"Region\": \"America - Latin\", \"Value\": 165845.1, \"Year\": \"2010\"}, {\"Region\": \"America - Northern\", \"Value\": 3571569.0020000013, \"Year\": \"2010\"}, {\"Region\": \"Asia - Far East\", \"Value\": 9996364.810000002, \"Year\": \"2010\"}, {\"Region\": \"Asia - Middle East and South\", \"Value\": 4878604.3, \"Year\": \"2010\"}, {\"Region\": \"Europe - Central and Eastern\", \"Value\": 2161846.8310000002, \"Year\": \"2010\"}, {\"Region\": \"Europe - Western\", \"Value\": 13705130.409999998, \"Year\": \"2010\"}]}}, {\"mode\": \"vega-lite\"});\n",
              "</script>"
            ]
          },
          "metadata": {
            "tags": []
          },
          "execution_count": 9
        }
      ]
    },
    {
      "cell_type": "code",
      "metadata": {
        "id": "sHjwNbNU6sVe"
      },
      "source": [
        "Year1990 = df.groupby('Region').p90r_1200.sum()\n",
        "Year1990 = pd.DataFrame(Year1990)\n",
        "Year1990['Year'] = \"1990\"\n",
        "Year1990 = Year1990.reset_index()\n",
        "Year1990.rename(columns = {'p90r_1200':'Value'}, inplace = True)\n",
        "Year2000 = df.groupby('Region').p00r_1200.sum()\n",
        "Year2000 = pd.DataFrame(Year2000)\n",
        "Year2000['Year'] = \"2000\"\n",
        "Year2000 = Year2000.reset_index()\n",
        "Year2000.rename(columns = {'p00r_1200':'Value'}, inplace = True)\n",
        "Year2010 = df.groupby('Region').p10r_1200 .sum()\n",
        "Year2010 = pd.DataFrame(Year2010)\n",
        "Year2010['Year'] = \"2010\"\n",
        "Year2010 = Year2010.reset_index()\n",
        "Year2010.rename(columns = {'p10r_1200':'Value'}, inplace = True)\n",
        "source2 = Year1990.append(Year2000)\n",
        "source2 = source2.append(Year2010)"
      ],
      "execution_count": null,
      "outputs": []
    },
    {
      "cell_type": "code",
      "metadata": {
        "colab": {
          "base_uri": "https://localhost:8080/",
          "height": 1000
        },
        "id": "bnSAeF0rBHhy",
        "outputId": "0f24a15b-3c18-4343-c641-d29882926303"
      },
      "source": [
        "hbar = alt.Chart(source2).mark_bar().encode(\n",
        "    x = alt.X('sum(Value):Q',title = \"Rural Population\"),\n",
        "    y = alt.Y('Year:O', sort = '-x'), \n",
        "    color='Year:N',\n",
        "    row='Region:N'\n",
        ").properties(\n",
        "    width=800,\n",
        "    height=130, title = \"Total Rural Population exposure at 1200 km over the years by region\"\n",
        ").configure_axis(grid = False,\n",
        "    domainWidth = 0.8\n",
        ")\n",
        "\n",
        "hbar"
      ],
      "execution_count": null,
      "outputs": [
        {
          "output_type": "execute_result",
          "data": {
            "text/plain": [
              "alt.Chart(...)"
            ],
            "text/html": [
              "\n",
              "<div id=\"altair-viz-f6c5510f9f0644f5bb761b7ef6db19d3\"></div>\n",
              "<script type=\"text/javascript\">\n",
              "  (function(spec, embedOpt){\n",
              "    let outputDiv = document.currentScript.previousElementSibling;\n",
              "    if (outputDiv.id !== \"altair-viz-f6c5510f9f0644f5bb761b7ef6db19d3\") {\n",
              "      outputDiv = document.getElementById(\"altair-viz-f6c5510f9f0644f5bb761b7ef6db19d3\");\n",
              "    }\n",
              "    const paths = {\n",
              "      \"vega\": \"https://cdn.jsdelivr.net/npm//vega@5?noext\",\n",
              "      \"vega-lib\": \"https://cdn.jsdelivr.net/npm//vega-lib?noext\",\n",
              "      \"vega-lite\": \"https://cdn.jsdelivr.net/npm//vega-lite@4.8.1?noext\",\n",
              "      \"vega-embed\": \"https://cdn.jsdelivr.net/npm//vega-embed@6?noext\",\n",
              "    };\n",
              "\n",
              "    function loadScript(lib) {\n",
              "      return new Promise(function(resolve, reject) {\n",
              "        var s = document.createElement('script');\n",
              "        s.src = paths[lib];\n",
              "        s.async = true;\n",
              "        s.onload = () => resolve(paths[lib]);\n",
              "        s.onerror = () => reject(`Error loading script: ${paths[lib]}`);\n",
              "        document.getElementsByTagName(\"head\")[0].appendChild(s);\n",
              "      });\n",
              "    }\n",
              "\n",
              "    function showError(err) {\n",
              "      outputDiv.innerHTML = `<div class=\"error\" style=\"color:red;\">${err}</div>`;\n",
              "      throw err;\n",
              "    }\n",
              "\n",
              "    function displayChart(vegaEmbed) {\n",
              "      vegaEmbed(outputDiv, spec, embedOpt)\n",
              "        .catch(err => showError(`Javascript Error: ${err.message}<br>This usually means there's a typo in your chart specification. See the javascript console for the full traceback.`));\n",
              "    }\n",
              "\n",
              "    if(typeof define === \"function\" && define.amd) {\n",
              "      requirejs.config({paths});\n",
              "      require([\"vega-embed\"], displayChart, err => showError(`Error loading script: ${err.message}`));\n",
              "    } else if (typeof vegaEmbed === \"function\") {\n",
              "      displayChart(vegaEmbed);\n",
              "    } else {\n",
              "      loadScript(\"vega\")\n",
              "        .then(() => loadScript(\"vega-lite\"))\n",
              "        .then(() => loadScript(\"vega-embed\"))\n",
              "        .catch(showError)\n",
              "        .then(() => displayChart(vegaEmbed));\n",
              "    }\n",
              "  })({\"config\": {\"view\": {\"continuousWidth\": 400, \"continuousHeight\": 300}, \"axis\": {\"domainWidth\": 0.8, \"grid\": false}}, \"data\": {\"name\": \"data-18703c9ea0e0a5f16b3d866bdc5357f5\"}, \"mark\": \"bar\", \"encoding\": {\"color\": {\"type\": \"nominal\", \"field\": \"Year\"}, \"row\": {\"type\": \"nominal\", \"field\": \"Region\"}, \"x\": {\"type\": \"quantitative\", \"aggregate\": \"sum\", \"field\": \"Value\", \"title\": \"Rural Population\"}, \"y\": {\"type\": \"ordinal\", \"field\": \"Year\", \"sort\": \"-x\"}}, \"height\": 130, \"title\": \"Total Rural Population exposure at 1200 km over the years by region\", \"width\": 800, \"$schema\": \"https://vega.github.io/schema/vega-lite/v4.8.1.json\", \"datasets\": {\"data-18703c9ea0e0a5f16b3d866bdc5357f5\": [{\"Region\": \"Africa\", \"Value\": 4204070, \"Year\": \"1990\"}, {\"Region\": \"America - Latin\", \"Value\": 107501300, \"Year\": \"1990\"}, {\"Region\": \"America - Northern\", \"Value\": 2121834190, \"Year\": \"1990\"}, {\"Region\": \"Asia - Far East\", \"Value\": 7092728700, \"Year\": \"1990\"}, {\"Region\": \"Asia - Middle East and South\", \"Value\": 3234860800, \"Year\": \"1990\"}, {\"Region\": \"Europe - Central and Eastern\", \"Value\": 2676463094, \"Year\": \"1990\"}, {\"Region\": \"Europe - Western\", \"Value\": 8949099300, \"Year\": \"1990\"}, {\"Region\": \"Africa\", \"Value\": 9371040, \"Year\": \"2000\"}, {\"Region\": \"America - Latin\", \"Value\": 126441900, \"Year\": \"2000\"}, {\"Region\": \"America - Northern\", \"Value\": 2312667270, \"Year\": \"2000\"}, {\"Region\": \"Asia - Far East\", \"Value\": 7847512800, \"Year\": \"2000\"}, {\"Region\": \"Asia - Middle East and South\", \"Value\": 3954942600, \"Year\": \"2000\"}, {\"Region\": \"Europe - Central and Eastern\", \"Value\": 2667729424, \"Year\": \"2000\"}, {\"Region\": \"Europe - Western\", \"Value\": 9182774200, \"Year\": \"2000\"}, {\"Region\": \"Africa\", \"Value\": 10499300, \"Year\": \"2010\"}, {\"Region\": \"America - Latin\", \"Value\": 142600900, \"Year\": \"2010\"}, {\"Region\": \"America - Northern\", \"Value\": 2546436770, \"Year\": \"2010\"}, {\"Region\": \"Asia - Far East\", \"Value\": 8370478800, \"Year\": \"2010\"}, {\"Region\": \"Asia - Middle East and South\", \"Value\": 4654304200, \"Year\": \"2010\"}, {\"Region\": \"Europe - Central and Eastern\", \"Value\": 2639479149, \"Year\": \"2010\"}, {\"Region\": \"Europe - Western\", \"Value\": 9469129400, \"Year\": \"2010\"}]}}, {\"mode\": \"vega-lite\"});\n",
              "</script>"
            ]
          },
          "metadata": {
            "tags": []
          },
          "execution_count": 18
        }
      ]
    },
    {
      "cell_type": "code",
      "metadata": {
        "id": "KzEzdGKQDiuv"
      },
      "source": [
        "Year1990 = df.groupby('Region').p90u_30.sum()\n",
        "Year1990 = pd.DataFrame(Year1990)\n",
        "Year1990['Year'] = \"1990\"\n",
        "Year1990 = Year1990.reset_index()\n",
        "Year1990.rename(columns = {'p90u_30':'Value'}, inplace = True)\n",
        "Year2000 = df.groupby('Region').p00u_30.sum()\n",
        "Year2000 = pd.DataFrame(Year2000)\n",
        "Year2000['Year'] = \"2000\"\n",
        "Year2000 = Year2000.reset_index()\n",
        "Year2000.rename(columns = {'p00u_30':'Value'}, inplace = True)\n",
        "Year2010 = df.groupby('Region').p10u_30.sum()\n",
        "Year2010 = pd.DataFrame(Year2010)\n",
        "Year2010['Year'] = \"2010\"\n",
        "Year2010 = Year2010.reset_index()\n",
        "Year2010.rename(columns = {'p10u_30':'Value'}, inplace = True)\n",
        "source3 = Year1990.append(Year2000)\n",
        "source3 = source3.append(Year2010)"
      ],
      "execution_count": null,
      "outputs": []
    },
    {
      "cell_type": "code",
      "metadata": {
        "colab": {
          "base_uri": "https://localhost:8080/",
          "height": 1000
        },
        "id": "sBI9AqfyEFp4",
        "outputId": "5dd204e9-8a27-4a32-8ac9-ffb9a1a44b1c"
      },
      "source": [
        "hbar = alt.Chart(source3).mark_bar().encode(\n",
        "    x = alt.X('sum(Value):Q',title = \"Urban Population\"),\n",
        "    y = alt.Y('Year:O'), \n",
        "    color='Region:N',\n",
        "    row='Region:N'\n",
        ").properties(\n",
        "    width=800,\n",
        "    height=130, title = \"Total Urban Population exposure at 30 km over the years by region\"\n",
        ").configure_axis(grid = False,\n",
        "    domainWidth = 0.8\n",
        ")\n",
        "\n",
        "\n",
        "hbar"
      ],
      "execution_count": null,
      "outputs": [
        {
          "output_type": "execute_result",
          "data": {
            "text/plain": [
              "alt.Chart(...)"
            ],
            "text/html": [
              "\n",
              "<div id=\"altair-viz-6dd36cdb51d947069665cc87ff282ba1\"></div>\n",
              "<script type=\"text/javascript\">\n",
              "  (function(spec, embedOpt){\n",
              "    let outputDiv = document.currentScript.previousElementSibling;\n",
              "    if (outputDiv.id !== \"altair-viz-6dd36cdb51d947069665cc87ff282ba1\") {\n",
              "      outputDiv = document.getElementById(\"altair-viz-6dd36cdb51d947069665cc87ff282ba1\");\n",
              "    }\n",
              "    const paths = {\n",
              "      \"vega\": \"https://cdn.jsdelivr.net/npm//vega@5?noext\",\n",
              "      \"vega-lib\": \"https://cdn.jsdelivr.net/npm//vega-lib?noext\",\n",
              "      \"vega-lite\": \"https://cdn.jsdelivr.net/npm//vega-lite@4.8.1?noext\",\n",
              "      \"vega-embed\": \"https://cdn.jsdelivr.net/npm//vega-embed@6?noext\",\n",
              "    };\n",
              "\n",
              "    function loadScript(lib) {\n",
              "      return new Promise(function(resolve, reject) {\n",
              "        var s = document.createElement('script');\n",
              "        s.src = paths[lib];\n",
              "        s.async = true;\n",
              "        s.onload = () => resolve(paths[lib]);\n",
              "        s.onerror = () => reject(`Error loading script: ${paths[lib]}`);\n",
              "        document.getElementsByTagName(\"head\")[0].appendChild(s);\n",
              "      });\n",
              "    }\n",
              "\n",
              "    function showError(err) {\n",
              "      outputDiv.innerHTML = `<div class=\"error\" style=\"color:red;\">${err}</div>`;\n",
              "      throw err;\n",
              "    }\n",
              "\n",
              "    function displayChart(vegaEmbed) {\n",
              "      vegaEmbed(outputDiv, spec, embedOpt)\n",
              "        .catch(err => showError(`Javascript Error: ${err.message}<br>This usually means there's a typo in your chart specification. See the javascript console for the full traceback.`));\n",
              "    }\n",
              "\n",
              "    if(typeof define === \"function\" && define.amd) {\n",
              "      requirejs.config({paths});\n",
              "      require([\"vega-embed\"], displayChart, err => showError(`Error loading script: ${err.message}`));\n",
              "    } else if (typeof vegaEmbed === \"function\") {\n",
              "      displayChart(vegaEmbed);\n",
              "    } else {\n",
              "      loadScript(\"vega\")\n",
              "        .then(() => loadScript(\"vega-lite\"))\n",
              "        .then(() => loadScript(\"vega-embed\"))\n",
              "        .catch(showError)\n",
              "        .then(() => displayChart(vegaEmbed));\n",
              "    }\n",
              "  })({\"config\": {\"view\": {\"continuousWidth\": 400, \"continuousHeight\": 300}, \"axis\": {\"domainWidth\": 0.8, \"grid\": false}}, \"data\": {\"name\": \"data-d5aabc61542c6d5eb898cb33722e651b\"}, \"mark\": \"bar\", \"encoding\": {\"color\": {\"type\": \"nominal\", \"field\": \"Region\"}, \"row\": {\"type\": \"nominal\", \"field\": \"Region\"}, \"x\": {\"type\": \"quantitative\", \"aggregate\": \"sum\", \"field\": \"Value\", \"title\": \"Urban Population\"}, \"y\": {\"type\": \"ordinal\", \"field\": \"Year\"}}, \"height\": 130, \"title\": \"Total Urban Population exposure at 30 km over the years by region\", \"width\": 800, \"$schema\": \"https://vega.github.io/schema/vega-lite/v4.8.1.json\", \"datasets\": {\"data-d5aabc61542c6d5eb898cb33722e651b\": [{\"Region\": \"Africa\", \"Value\": 408258.0, \"Year\": \"1990\"}, {\"Region\": \"America - Latin\", \"Value\": 282333.9, \"Year\": \"1990\"}, {\"Region\": \"America - Northern\", \"Value\": 18964932.747050002, \"Year\": \"1990\"}, {\"Region\": \"Asia - Far East\", \"Value\": 25724440.91, \"Year\": \"1990\"}, {\"Region\": \"Asia - Middle East and South\", \"Value\": 5732401.6, \"Year\": \"1990\"}, {\"Region\": \"Europe - Central and Eastern\", \"Value\": 7262070.5571, \"Year\": \"1990\"}, {\"Region\": \"Europe - Western\", \"Value\": 34509432.62908, \"Year\": \"1990\"}, {\"Region\": \"Africa\", \"Value\": 414732.0, \"Year\": \"2000\"}, {\"Region\": \"America - Latin\", \"Value\": 307197.3, \"Year\": \"2000\"}, {\"Region\": \"America - Northern\", \"Value\": 20964721.169770002, \"Year\": \"2000\"}, {\"Region\": \"Asia - Far East\", \"Value\": 27888472.900000002, \"Year\": \"2000\"}, {\"Region\": \"Asia - Middle East and South\", \"Value\": 7405541.7, \"Year\": \"2000\"}, {\"Region\": \"Europe - Central and Eastern\", \"Value\": 6774686.182320999, \"Year\": \"2000\"}, {\"Region\": \"Europe - Western\", \"Value\": 36204598.69943, \"Year\": \"2000\"}, {\"Region\": \"Africa\", \"Value\": 468422.0, \"Year\": \"2010\"}, {\"Region\": \"America - Latin\", \"Value\": 339194.9, \"Year\": \"2010\"}, {\"Region\": \"America - Northern\", \"Value\": 23125615.105220005, \"Year\": \"2010\"}, {\"Region\": \"Asia - Far East\", \"Value\": 29705518.3, \"Year\": \"2010\"}, {\"Region\": \"Asia - Middle East and South\", \"Value\": 9137522.6, \"Year\": \"2010\"}, {\"Region\": \"Europe - Central and Eastern\", \"Value\": 6523149.021312, \"Year\": \"2010\"}, {\"Region\": \"Europe - Western\", \"Value\": 37219076.37152999, \"Year\": \"2010\"}]}}, {\"mode\": \"vega-lite\"});\n",
              "</script>"
            ]
          },
          "metadata": {
            "tags": []
          },
          "execution_count": 13
        }
      ]
    },
    {
      "cell_type": "code",
      "metadata": {
        "id": "GdSWR-74HZvb"
      },
      "source": [
        "Year1990 = df.groupby('Region').p90u_1200.sum()\n",
        "Year1990 = pd.DataFrame(Year1990)\n",
        "Year1990['Year'] = \"1990\"\n",
        "Year1990 = Year1990.reset_index()\n",
        "Year1990.rename(columns = {'p90u_1200':'Value'}, inplace = True)\n",
        "Year2000 = df.groupby('Region').p00u_1200.sum()\n",
        "Year2000 = pd.DataFrame(Year2000)\n",
        "Year2000['Year'] = \"2000\"\n",
        "Year2000 = Year2000.reset_index()\n",
        "Year2000.rename(columns = {'p00u_1200':'Value'}, inplace = True)\n",
        "Year2010 = df.groupby('Region').p10u_1200 .sum()\n",
        "Year2010 = pd.DataFrame(Year2010)\n",
        "Year2010['Year'] = \"2010\"\n",
        "Year2010 = Year2010.reset_index()\n",
        "Year2010.rename(columns = {'p10u_1200':'Value'}, inplace = True)\n",
        "source4 = Year1990.append(Year2000)\n",
        "source4 = source4.append(Year2010)\n"
      ],
      "execution_count": null,
      "outputs": []
    },
    {
      "cell_type": "code",
      "metadata": {
        "colab": {
          "base_uri": "https://localhost:8080/",
          "height": 1000
        },
        "id": "7kR42cB_Ht-I",
        "outputId": "289762ad-5f16-426b-a163-0a3f8e8bbeb1"
      },
      "source": [
        "hbar = alt.Chart(source4).mark_bar().encode(\n",
        "    x = alt.X('sum(Value):Q',title = \"Urban Population\"),\n",
        "    y = alt.Y('Year:O'), \n",
        "    color='Region:N',\n",
        "    row='Region:N'\n",
        ").properties(\n",
        "    width=800,\n",
        "    height=130, title = \"Total Urban Population exposure at 1200 km over the years by region\"\n",
        ").configure_axis(grid = False,\n",
        "    domainWidth = 0.8\n",
        ")\n",
        "\n",
        "\n",
        "hbar"
      ],
      "execution_count": null,
      "outputs": [
        {
          "output_type": "execute_result",
          "data": {
            "text/plain": [
              "alt.Chart(...)"
            ],
            "text/html": [
              "\n",
              "<div id=\"altair-viz-d2f47babddeb446591c97a7067d392bb\"></div>\n",
              "<script type=\"text/javascript\">\n",
              "  (function(spec, embedOpt){\n",
              "    let outputDiv = document.currentScript.previousElementSibling;\n",
              "    if (outputDiv.id !== \"altair-viz-d2f47babddeb446591c97a7067d392bb\") {\n",
              "      outputDiv = document.getElementById(\"altair-viz-d2f47babddeb446591c97a7067d392bb\");\n",
              "    }\n",
              "    const paths = {\n",
              "      \"vega\": \"https://cdn.jsdelivr.net/npm//vega@5?noext\",\n",
              "      \"vega-lib\": \"https://cdn.jsdelivr.net/npm//vega-lib?noext\",\n",
              "      \"vega-lite\": \"https://cdn.jsdelivr.net/npm//vega-lite@4.8.1?noext\",\n",
              "      \"vega-embed\": \"https://cdn.jsdelivr.net/npm//vega-embed@6?noext\",\n",
              "    };\n",
              "\n",
              "    function loadScript(lib) {\n",
              "      return new Promise(function(resolve, reject) {\n",
              "        var s = document.createElement('script');\n",
              "        s.src = paths[lib];\n",
              "        s.async = true;\n",
              "        s.onload = () => resolve(paths[lib]);\n",
              "        s.onerror = () => reject(`Error loading script: ${paths[lib]}`);\n",
              "        document.getElementsByTagName(\"head\")[0].appendChild(s);\n",
              "      });\n",
              "    }\n",
              "\n",
              "    function showError(err) {\n",
              "      outputDiv.innerHTML = `<div class=\"error\" style=\"color:red;\">${err}</div>`;\n",
              "      throw err;\n",
              "    }\n",
              "\n",
              "    function displayChart(vegaEmbed) {\n",
              "      vegaEmbed(outputDiv, spec, embedOpt)\n",
              "        .catch(err => showError(`Javascript Error: ${err.message}<br>This usually means there's a typo in your chart specification. See the javascript console for the full traceback.`));\n",
              "    }\n",
              "\n",
              "    if(typeof define === \"function\" && define.amd) {\n",
              "      requirejs.config({paths});\n",
              "      require([\"vega-embed\"], displayChart, err => showError(`Error loading script: ${err.message}`));\n",
              "    } else if (typeof vegaEmbed === \"function\") {\n",
              "      displayChart(vegaEmbed);\n",
              "    } else {\n",
              "      loadScript(\"vega\")\n",
              "        .then(() => loadScript(\"vega-lite\"))\n",
              "        .then(() => loadScript(\"vega-embed\"))\n",
              "        .catch(showError)\n",
              "        .then(() => displayChart(vegaEmbed));\n",
              "    }\n",
              "  })({\"config\": {\"view\": {\"continuousWidth\": 400, \"continuousHeight\": 300}, \"axis\": {\"domainWidth\": 0.8, \"grid\": false}}, \"data\": {\"name\": \"data-4d72cf8cdb5a412abacd93eac75cbbc4\"}, \"mark\": \"bar\", \"encoding\": {\"color\": {\"type\": \"nominal\", \"field\": \"Region\"}, \"row\": {\"type\": \"nominal\", \"field\": \"Region\"}, \"x\": {\"type\": \"quantitative\", \"aggregate\": \"sum\", \"field\": \"Value\", \"title\": \"Urban Population\"}, \"y\": {\"type\": \"ordinal\", \"field\": \"Year\"}}, \"height\": 130, \"title\": \"Total Urban Population exposure at 1200 km over the years by region\", \"width\": 800, \"$schema\": \"https://vega.github.io/schema/vega-lite/v4.8.1.json\", \"datasets\": {\"data-4d72cf8cdb5a412abacd93eac75cbbc4\": [{\"Region\": \"Africa\", \"Value\": 8019180.0, \"Year\": \"1990\"}, {\"Region\": \"America - Latin\", \"Value\": 207543400.0, \"Year\": \"1990\"}, {\"Region\": \"America - Northern\", \"Value\": 9493539600.0, \"Year\": \"1990\"}, {\"Region\": \"Asia - Far East\", \"Value\": 10911853300.0, \"Year\": \"1990\"}, {\"Region\": \"Asia - Middle East and South\", \"Value\": 1461137600.0, \"Year\": \"1990\"}, {\"Region\": \"Europe - Central and Eastern\", \"Value\": 4370114812.5, \"Year\": \"1990\"}, {\"Region\": \"Europe - Western\", \"Value\": 21324611000.0, \"Year\": \"1990\"}, {\"Region\": \"Africa\", \"Value\": 11422600.0, \"Year\": \"2000\"}, {\"Region\": \"America - Latin\", \"Value\": 240705000.0, \"Year\": \"2000\"}, {\"Region\": \"America - Northern\", \"Value\": 10413591400.0, \"Year\": \"2000\"}, {\"Region\": \"Asia - Far East\", \"Value\": 12025461000.0, \"Year\": \"2000\"}, {\"Region\": \"Asia - Middle East and South\", \"Value\": 1823374600.0, \"Year\": \"2000\"}, {\"Region\": \"Europe - Central and Eastern\", \"Value\": 4397984823.1, \"Year\": \"2000\"}, {\"Region\": \"Europe - Western\", \"Value\": 21968391200.0, \"Year\": \"2000\"}, {\"Region\": \"Africa\", \"Value\": 12861600.0, \"Year\": \"2010\"}, {\"Region\": \"America - Latin\", \"Value\": 268559300.0, \"Year\": \"2010\"}, {\"Region\": \"America - Northern\", \"Value\": 11497612100.0, \"Year\": \"2010\"}, {\"Region\": \"Asia - Far East\", \"Value\": 12675121000.0, \"Year\": \"2010\"}, {\"Region\": \"Asia - Middle East and South\", \"Value\": 2147845900.0, \"Year\": \"2010\"}, {\"Region\": \"Europe - Central and Eastern\", \"Value\": 4386271259.4, \"Year\": \"2010\"}, {\"Region\": \"Europe - Western\", \"Value\": 22849254900.0, \"Year\": \"2010\"}]}}, {\"mode\": \"vega-lite\"});\n",
              "</script>"
            ]
          },
          "metadata": {
            "tags": []
          },
          "execution_count": 19
        }
      ]
    },
    {
      "cell_type": "code",
      "metadata": {
        "id": "KffO-V3rHzqH"
      },
      "source": [
        "df1 = df[['Country', 'NumReactor']]"
      ],
      "execution_count": null,
      "outputs": []
    },
    {
      "cell_type": "code",
      "metadata": {
        "colab": {
          "base_uri": "https://localhost:8080/",
          "height": 1000
        },
        "id": "j6KO6xKGIPvh",
        "outputId": "8b801e50-8401-4528-cfda-16fc90c5b4bd"
      },
      "source": [
        "hbar = alt.Chart(df1).mark_bar().encode(\n",
        "    x = alt.X('sum(NumReactor):Q',title = \"Total Number of Reactors\"),\n",
        "    y = alt.Y('Country:O', sort = '-x', title = \"Country\"),\n",
        "    color=alt.condition(\n",
        "        alt.datum.Country  == \"UNITED STATES OF AMERICA\",  \n",
        "        alt.value('brown'),     \n",
        "        alt.value('green')  \n",
        "    )\n",
        "    ).properties(width = 1000, height = 1000, title = \"Top 10 Countries by highest number of Reactors\")\n",
        "\n",
        "\n",
        "text = hbar.mark_text(\n",
        "    align = 'left',\n",
        "    baseline = 'middle',\n",
        "    dx=4  \n",
        ").encode(\n",
        "    text = 'sum(NumReactor):Q'\n",
        ")\n",
        "\n",
        "\n",
        "alt.layer(hbar, text).configure_view(\n",
        "    stroke = 'transparent'\n",
        ").configure_axis(grid = False,\n",
        "    domainWidth = 0.8\n",
        ")\n",
        "\n",
        "\n"
      ],
      "execution_count": null,
      "outputs": [
        {
          "output_type": "execute_result",
          "data": {
            "text/plain": [
              "alt.LayerChart(...)"
            ],
            "text/html": [
              "\n",
              "<div id=\"altair-viz-117c2c20110d43479a5e731f3a40f2ac\"></div>\n",
              "<script type=\"text/javascript\">\n",
              "  (function(spec, embedOpt){\n",
              "    let outputDiv = document.currentScript.previousElementSibling;\n",
              "    if (outputDiv.id !== \"altair-viz-117c2c20110d43479a5e731f3a40f2ac\") {\n",
              "      outputDiv = document.getElementById(\"altair-viz-117c2c20110d43479a5e731f3a40f2ac\");\n",
              "    }\n",
              "    const paths = {\n",
              "      \"vega\": \"https://cdn.jsdelivr.net/npm//vega@5?noext\",\n",
              "      \"vega-lib\": \"https://cdn.jsdelivr.net/npm//vega-lib?noext\",\n",
              "      \"vega-lite\": \"https://cdn.jsdelivr.net/npm//vega-lite@4.8.1?noext\",\n",
              "      \"vega-embed\": \"https://cdn.jsdelivr.net/npm//vega-embed@6?noext\",\n",
              "    };\n",
              "\n",
              "    function loadScript(lib) {\n",
              "      return new Promise(function(resolve, reject) {\n",
              "        var s = document.createElement('script');\n",
              "        s.src = paths[lib];\n",
              "        s.async = true;\n",
              "        s.onload = () => resolve(paths[lib]);\n",
              "        s.onerror = () => reject(`Error loading script: ${paths[lib]}`);\n",
              "        document.getElementsByTagName(\"head\")[0].appendChild(s);\n",
              "      });\n",
              "    }\n",
              "\n",
              "    function showError(err) {\n",
              "      outputDiv.innerHTML = `<div class=\"error\" style=\"color:red;\">${err}</div>`;\n",
              "      throw err;\n",
              "    }\n",
              "\n",
              "    function displayChart(vegaEmbed) {\n",
              "      vegaEmbed(outputDiv, spec, embedOpt)\n",
              "        .catch(err => showError(`Javascript Error: ${err.message}<br>This usually means there's a typo in your chart specification. See the javascript console for the full traceback.`));\n",
              "    }\n",
              "\n",
              "    if(typeof define === \"function\" && define.amd) {\n",
              "      requirejs.config({paths});\n",
              "      require([\"vega-embed\"], displayChart, err => showError(`Error loading script: ${err.message}`));\n",
              "    } else if (typeof vegaEmbed === \"function\") {\n",
              "      displayChart(vegaEmbed);\n",
              "    } else {\n",
              "      loadScript(\"vega\")\n",
              "        .then(() => loadScript(\"vega-lite\"))\n",
              "        .then(() => loadScript(\"vega-embed\"))\n",
              "        .catch(showError)\n",
              "        .then(() => displayChart(vegaEmbed));\n",
              "    }\n",
              "  })({\"config\": {\"view\": {\"continuousWidth\": 400, \"continuousHeight\": 300, \"stroke\": \"transparent\"}, \"axis\": {\"domainWidth\": 0.8, \"grid\": false}}, \"layer\": [{\"mark\": \"bar\", \"encoding\": {\"color\": {\"condition\": {\"value\": \"brown\", \"test\": \"(datum.Country === 'UNITED STATES OF AMERICA')\"}, \"value\": \"green\"}, \"x\": {\"type\": \"quantitative\", \"aggregate\": \"sum\", \"field\": \"NumReactor\", \"title\": \"Total Number of Reactors\"}, \"y\": {\"type\": \"ordinal\", \"field\": \"Country\", \"sort\": \"-x\", \"title\": \"Country\"}}, \"height\": 1000, \"title\": \"Top 10 Countries by highest number of Reactors\", \"width\": 1000}, {\"mark\": {\"type\": \"text\", \"align\": \"left\", \"baseline\": \"middle\", \"dx\": 4}, \"encoding\": {\"color\": {\"condition\": {\"value\": \"brown\", \"test\": \"(datum.Country === 'UNITED STATES OF AMERICA')\"}, \"value\": \"green\"}, \"text\": {\"type\": \"quantitative\", \"aggregate\": \"sum\", \"field\": \"NumReactor\"}, \"x\": {\"type\": \"quantitative\", \"aggregate\": \"sum\", \"field\": \"NumReactor\", \"title\": \"Total Number of Reactors\"}, \"y\": {\"type\": \"ordinal\", \"field\": \"Country\", \"sort\": \"-x\", \"title\": \"Country\"}}, \"height\": 1000, \"title\": \"Top 10 Countries by highest number of Reactors\", \"width\": 1000}], \"data\": {\"name\": \"data-6d57d87feaad62d81bf12d3770b0ec62\"}, \"$schema\": \"https://vega.github.io/schema/vega-lite/v4.8.1.json\", \"datasets\": {\"data-6d57d87feaad62d81bf12d3770b0ec62\": [{\"Country\": \"SWEDEN\", \"NumReactor\": 1}, {\"Country\": \"SPAIN\", \"NumReactor\": 2}, {\"Country\": \"BRAZIL\", \"NumReactor\": 3}, {\"Country\": \"UNITED STATES OF AMERICA\", \"NumReactor\": 2}, {\"Country\": \"SPAIN\", \"NumReactor\": 2}, {\"Country\": \"ARGENTINA\", \"NumReactor\": 2}, {\"Country\": \"GERMANY\", \"NumReactor\": 1}, {\"Country\": \"RUSSIAN FEDERATION\", \"NumReactor\": 4}, {\"Country\": \"SWEDEN\", \"NumReactor\": 2}, {\"Country\": \"UNITED STATES OF AMERICA\", \"NumReactor\": 2}, {\"Country\": \"BULGARIA\", \"NumReactor\": 2}, {\"Country\": \"FRANCE\", \"NumReactor\": 2}, {\"Country\": \"RUSSIAN FEDERATION\", \"NumReactor\": 4}, {\"Country\": \"UNITED KINGDOM\", \"NumReactor\": 2}, {\"Country\": \"SWITZERLAND\", \"NumReactor\": 2}, {\"Country\": \"GERMANY\", \"NumReactor\": 2}, {\"Country\": \"UNITED STATES OF AMERICA\", \"NumReactor\": 1}, {\"Country\": \"RUSSIAN FEDERATION\", \"NumReactor\": 4}, {\"Country\": \"FRANCE\", \"NumReactor\": 4}, {\"Country\": \"KAZAKHSTAN\", \"NumReactor\": 1}, {\"Country\": \"SLOVAK REPUBLIC\", \"NumReactor\": 5}, {\"Country\": \"UNITED STATES OF AMERICA\", \"NumReactor\": 1}, {\"Country\": \"NETHERLANDS\", \"NumReactor\": 1}, {\"Country\": \"UNITED KINGDOM\", \"NumReactor\": 2}, {\"Country\": \"UNITED STATES OF AMERICA\", \"NumReactor\": 2}, {\"Country\": \"FRANCE\", \"NumReactor\": 1}, {\"Country\": \"GERMANY\", \"NumReactor\": 1}, {\"Country\": \"UNITED STATES OF AMERICA\", \"NumReactor\": 3}, {\"Country\": \"CANADA\", \"NumReactor\": 8}, {\"Country\": \"GERMANY\", \"NumReactor\": 1}, {\"Country\": \"UNITED STATES OF AMERICA\", \"NumReactor\": 2}, {\"Country\": \"FRANCE\", \"NumReactor\": 5}, {\"Country\": \"IRAN, ISLAMIC REPUBLIC OF\", \"NumReactor\": 1}, {\"Country\": \"UNITED STATES OF AMERICA\", \"NumReactor\": 2}, {\"Country\": \"UNITED STATES OF AMERICA\", \"NumReactor\": 1}, {\"Country\": \"UNITED STATES OF AMERICA\", \"NumReactor\": 2}, {\"Country\": \"ITALY\", \"NumReactor\": 1}, {\"Country\": \"UNITED STATES OF AMERICA\", \"NumReactor\": 2}, {\"Country\": \"FRANCE\", \"NumReactor\": 4}, {\"Country\": \"CHINA\", \"NumReactor\": 1}, {\"Country\": \"ROMANIA\", \"NumReactor\": 2}, {\"Country\": \"CHINA\", \"NumReactor\": 2}, {\"Country\": \"UNITED KINGDOM\", \"NumReactor\": 4}, {\"Country\": \"PAKISTAN\", \"NumReactor\": 4}, {\"Country\": \"UKRAINE\", \"NumReactor\": 4}, {\"Country\": \"TAIWAN, CHINA\", \"NumReactor\": 2}, {\"Country\": \"FRANCE\", \"NumReactor\": 7}, {\"Country\": \"FRANCE\", \"NumReactor\": 3}, {\"Country\": \"FRANCE\", \"NumReactor\": 2}, {\"Country\": \"UNITED STATES OF AMERICA\", \"NumReactor\": 1}, {\"Country\": \"SPAIN\", \"NumReactor\": 1}, {\"Country\": \"UNITED STATES OF AMERICA\", \"NumReactor\": 1}, {\"Country\": \"UNITED STATES OF AMERICA\", \"NumReactor\": 2}, {\"Country\": \"UNITED STATES OF AMERICA\", \"NumReactor\": 1}, {\"Country\": \"FRANCE\", \"NumReactor\": 1}, {\"Country\": \"FRANCE\", \"NumReactor\": 4}, {\"Country\": \"UNITED STATES OF AMERICA\", \"NumReactor\": 1}, {\"Country\": \"UNITED STATES OF AMERICA\", \"NumReactor\": 1}, {\"Country\": \"FRANCE\", \"NumReactor\": 4}, {\"Country\": \"CANADA\", \"NumReactor\": 4}, {\"Country\": \"UNITED STATES OF AMERICA\", \"NumReactor\": 1}, {\"Country\": \"UNITED STATES OF AMERICA\", \"NumReactor\": 2}, {\"Country\": \"NETHERLANDS\", \"NumReactor\": 1}, {\"Country\": \"BELGIUM\", \"NumReactor\": 4}, {\"Country\": \"UNITED STATES OF AMERICA\", \"NumReactor\": 2}, {\"Country\": \"CANADA\", \"NumReactor\": 1}, {\"Country\": \"UNITED KINGDOM\", \"NumReactor\": 2}, {\"Country\": \"UNITED STATES OF AMERICA\", \"NumReactor\": 3}, {\"Country\": \"UNITED STATES OF AMERICA\", \"NumReactor\": 1}, {\"Country\": \"CZECH REPUBLIC\", \"NumReactor\": 4}, {\"Country\": \"UNITED KINGDOM\", \"NumReactor\": 4}, {\"Country\": \"UNITED STATES OF AMERICA\", \"NumReactor\": 1}, {\"Country\": \"ARGENTINA\", \"NumReactor\": 1}, {\"Country\": \"GERMANY\", \"NumReactor\": 1}, {\"Country\": \"UNITED STATES OF AMERICA\", \"NumReactor\": 3}, {\"Country\": \"CHINA\", \"NumReactor\": 2}, {\"Country\": \"UNITED STATES OF AMERICA\", \"NumReactor\": 2}, {\"Country\": \"FRANCE\", \"NumReactor\": 2}, {\"Country\": \"UNITED STATES OF AMERICA\", \"NumReactor\": 1}, {\"Country\": \"FRANCE\", \"NumReactor\": 3}, {\"Country\": \"SWEDEN\", \"NumReactor\": 3}, {\"Country\": \"UNITED STATES OF AMERICA\", \"NumReactor\": 1}, {\"Country\": \"UNITED STATES OF AMERICA\", \"NumReactor\": 1}, {\"Country\": \"JAPAN\", \"NumReactor\": 1}, {\"Country\": \"JAPAN\", \"NumReactor\": 6}, {\"Country\": \"JAPAN\", \"NumReactor\": 4}, {\"Country\": \"CHINA\", \"NumReactor\": 3}, {\"Country\": \"ITALY\", \"NumReactor\": 1}, {\"Country\": \"JAPAN\", \"NumReactor\": 4}, {\"Country\": \"CANADA\", \"NumReactor\": 2}, {\"Country\": \"SWITZERLAND\", \"NumReactor\": 1}, {\"Country\": \"FRANCE\", \"NumReactor\": 2}, {\"Country\": \"GERMANY\", \"NumReactor\": 1}, {\"Country\": \"UNITED STATES OF AMERICA\", \"NumReactor\": 1}, {\"Country\": \"FRANCE\", \"NumReactor\": 6}, {\"Country\": \"GERMANY\", \"NumReactor\": 5}, {\"Country\": \"GERMANY\", \"NumReactor\": 1}, {\"Country\": \"CHINA\", \"NumReactor\": 2}, {\"Country\": \"GERMANY\", \"NumReactor\": 3}, {\"Country\": \"UNITED STATES OF AMERICA\", \"NumReactor\": 1}, {\"Country\": \"UNITED STATES OF AMERICA\", \"NumReactor\": 1}, {\"Country\": \"CHINA\", \"NumReactor\": 2}, {\"Country\": \"UNITED STATES OF AMERICA\", \"NumReactor\": 1}, {\"Country\": \"JAPAN\", \"NumReactor\": 5}, {\"Country\": \"UNITED KINGDOM\", \"NumReactor\": 2}, {\"Country\": \"UNITED STATES OF AMERICA\", \"NumReactor\": 2}, {\"Country\": \"GERMANY\", \"NumReactor\": 1}, {\"Country\": \"UNITED KINGDOM\", \"NumReactor\": 4}, {\"Country\": \"JAPAN\", \"NumReactor\": 1}, {\"Country\": \"UNITED KINGDOM\", \"NumReactor\": 2}, {\"Country\": \"UNITED KINGDOM\", \"NumReactor\": 2}, {\"Country\": \"CHINA\", \"NumReactor\": 4}, {\"Country\": \"UNITED STATES OF AMERICA\", \"NumReactor\": 1}, {\"Country\": \"UNITED STATES OF AMERICA\", \"NumReactor\": 1}, {\"Country\": \"UNITED KINGDOM\", \"NumReactor\": 2}, {\"Country\": \"UNITED KINGDOM\", \"NumReactor\": 2}, {\"Country\": \"LITHUANIA\", \"NumReactor\": 2}, {\"Country\": \"JAPAN\", \"NumReactor\": 3}, {\"Country\": \"UNITED STATES OF AMERICA\", \"NumReactor\": 3}, {\"Country\": \"GERMANY\", \"NumReactor\": 2}, {\"Country\": \"SPAIN\", \"NumReactor\": 1}, {\"Country\": \"JAPAN\", \"NumReactor\": 1}, {\"Country\": \"INDIA\", \"NumReactor\": 4}, {\"Country\": \"INDIA\", \"NumReactor\": 4}, {\"Country\": \"RUSSIAN FEDERATION\", \"NumReactor\": 4}, {\"Country\": \"PAKISTAN\", \"NumReactor\": 1}, {\"Country\": \"JAPAN\", \"NumReactor\": 7}, {\"Country\": \"UNITED STATES OF AMERICA\", \"NumReactor\": 1}, {\"Country\": \"UKRAINE\", \"NumReactor\": 4}, {\"Country\": \"GERMANY\", \"NumReactor\": 1}, {\"Country\": \"SOUTH AFRICA\", \"NumReactor\": 2}, {\"Country\": \"RUSSIAN FEDERATION\", \"NumReactor\": 4}, {\"Country\": \"KOREA, REPUBLIC OF\", \"NumReactor\": 8}, {\"Country\": \"BULGARIA\", \"NumReactor\": 6}, {\"Country\": \"SLOVENIA\", \"NumReactor\": 1}, {\"Country\": \"GERMANY\", \"NumReactor\": 1}, {\"Country\": \"INDIA\", \"NumReactor\": 2}, {\"Country\": \"TAIWAN, CHINA\", \"NumReactor\": 2}, {\"Country\": \"RUSSIAN FEDERATION\", \"NumReactor\": 5}, {\"Country\": \"UNITED STATES OF AMERICA\", \"NumReactor\": 1}, {\"Country\": \"MEXICO\", \"NumReactor\": 2}, {\"Country\": \"UNITED STATES OF AMERICA\", \"NumReactor\": 2}, {\"Country\": \"ITALY\", \"NumReactor\": 1}, {\"Country\": \"SWITZERLAND\", \"NumReactor\": 1}, {\"Country\": \"RUSSIAN FEDERATION\", \"NumReactor\": 4}, {\"Country\": \"RUSSIAN FEDERATION\", \"NumReactor\": 2}, {\"Country\": \"UNITED STATES OF AMERICA\", \"NumReactor\": 2}, {\"Country\": \"CHINA\", \"NumReactor\": 4}, {\"Country\": \"GERMANY\", \"NumReactor\": 1}, {\"Country\": \"FINLAND\", \"NumReactor\": 2}, {\"Country\": \"SWITZERLAND\", \"NumReactor\": 1}, {\"Country\": \"TAIWAN, CHINA\", \"NumReactor\": 2}, {\"Country\": \"TAIWAN, CHINA\", \"NumReactor\": 2}, {\"Country\": \"INDIA\", \"NumReactor\": 3}, {\"Country\": \"UNITED STATES OF AMERICA\", \"NumReactor\": 1}, {\"Country\": \"FRANCE\", \"NumReactor\": 3}, {\"Country\": \"UNITED STATES OF AMERICA\", \"NumReactor\": 2}, {\"Country\": \"ARMENIA\", \"NumReactor\": 2}, {\"Country\": \"JAPAN\", \"NumReactor\": 3}, {\"Country\": \"UNITED STATES OF AMERICA\", \"NumReactor\": 3}, {\"Country\": \"SLOVAK REPUBLIC\", \"NumReactor\": 4}, {\"Country\": \"BELGIUM\", \"NumReactor\": 1}, {\"Country\": \"JAPAN\", \"NumReactor\": 1}, {\"Country\": \"UNITED STATES OF AMERICA\", \"NumReactor\": 1}, {\"Country\": \"SWITZERLAND\", \"NumReactor\": 1}, {\"Country\": \"GERMANY\", \"NumReactor\": 1}, {\"Country\": \"GERMANY\", \"NumReactor\": 1}, {\"Country\": \"INDIA\", \"NumReactor\": 2}, {\"Country\": \"GERMANY\", \"NumReactor\": 2}, {\"Country\": \"GERMANY\", \"NumReactor\": 1}, {\"Country\": \"UNITED STATES OF AMERICA\", \"NumReactor\": 2}, {\"Country\": \"CHINA\", \"NumReactor\": 4}, {\"Country\": \"FRANCE\", \"NumReactor\": 2}, {\"Country\": \"UNITED STATES OF AMERICA\", \"NumReactor\": 2}, {\"Country\": \"RUSSIAN FEDERATION\", \"NumReactor\": 5}, {\"Country\": \"RUSSIAN FEDERATION\", \"NumReactor\": 2}, {\"Country\": \"RUSSIAN FEDERATION\", \"NumReactor\": 1}, {\"Country\": \"GERMANY\", \"NumReactor\": 1}, {\"Country\": \"UNITED STATES OF AMERICA\", \"NumReactor\": 3}, {\"Country\": \"JAPAN\", \"NumReactor\": 4}, {\"Country\": \"JAPAN\", \"NumReactor\": 1}, {\"Country\": \"UNITED KINGDOM\", \"NumReactor\": 2}, {\"Country\": \"FINLAND\", \"NumReactor\": 3}, {\"Country\": \"JAPAN\", \"NumReactor\": 3}, {\"Country\": \"SWEDEN\", \"NumReactor\": 3}, {\"Country\": \"UNITED STATES OF AMERICA\", \"NumReactor\": 1}, {\"Country\": \"HUNGARY\", \"NumReactor\": 4}, {\"Country\": \"UNITED STATES OF AMERICA\", \"NumReactor\": 1}, {\"Country\": \"UNITED STATES OF AMERICA\", \"NumReactor\": 3}, {\"Country\": \"FRANCE\", \"NumReactor\": 4}, {\"Country\": \"UNITED STATES OF AMERICA\", \"NumReactor\": 1}, {\"Country\": \"UNITED STATES OF AMERICA\", \"NumReactor\": 3}, {\"Country\": \"FRANCE\", \"NumReactor\": 2}, {\"Country\": \"UNITED STATES OF AMERICA\", \"NumReactor\": 1}, {\"Country\": \"GERMANY\", \"NumReactor\": 2}, {\"Country\": \"CANADA\", \"NumReactor\": 8}, {\"Country\": \"UNITED STATES OF AMERICA\", \"NumReactor\": 1}, {\"Country\": \"UNITED STATES OF AMERICA\", \"NumReactor\": 1}, {\"Country\": \"UNITED STATES OF AMERICA\", \"NumReactor\": 2}, {\"Country\": \"CANADA\", \"NumReactor\": 1}, {\"Country\": \"UNITED STATES OF AMERICA\", \"NumReactor\": 2}, {\"Country\": \"CHINA\", \"NumReactor\": 9}, {\"Country\": \"UNITED STATES OF AMERICA\", \"NumReactor\": 2}, {\"Country\": \"UNITED STATES OF AMERICA\", \"NumReactor\": 1}, {\"Country\": \"INDIA\", \"NumReactor\": 8}, {\"Country\": \"UNITED STATES OF AMERICA\", \"NumReactor\": 1}, {\"Country\": \"GERMANY\", \"NumReactor\": 1}, {\"Country\": \"SWEDEN\", \"NumReactor\": 4}, {\"Country\": \"UNITED STATES OF AMERICA\", \"NumReactor\": 1}, {\"Country\": \"CANADA\", \"NumReactor\": 1}, {\"Country\": \"UKRAINE\", \"NumReactor\": 4}, {\"Country\": \"FRANCE\", \"NumReactor\": 2}, {\"Country\": \"UNITED STATES OF AMERICA\", \"NumReactor\": 2}, {\"Country\": \"UNITED STATES OF AMERICA\", \"NumReactor\": 3}, {\"Country\": \"CHINA\", \"NumReactor\": 2}, {\"Country\": \"SPAIN\", \"NumReactor\": 1}, {\"Country\": \"UNITED STATES OF AMERICA\", \"NumReactor\": 1}, {\"Country\": \"UNITED STATES OF AMERICA\", \"NumReactor\": 1}, {\"Country\": \"UNITED KINGDOM\", \"NumReactor\": 5}, {\"Country\": \"JAPAN\", \"NumReactor\": 2}, {\"Country\": \"UNITED STATES OF AMERICA\", \"NumReactor\": 2}, {\"Country\": \"UNITED STATES OF AMERICA\", \"NumReactor\": 1}, {\"Country\": \"JAPAN\", \"NumReactor\": 2}, {\"Country\": \"JAPAN\", \"NumReactor\": 3}, {\"Country\": \"KOREA, REPUBLIC OF\", \"NumReactor\": 2}, {\"Country\": \"UNITED STATES OF AMERICA\", \"NumReactor\": 1}, {\"Country\": \"UNITED STATES OF AMERICA\", \"NumReactor\": 1}, {\"Country\": \"UNITED KINGDOM\", \"NumReactor\": 3}, {\"Country\": \"RUSSIAN FEDERATION\", \"NumReactor\": 3}, {\"Country\": \"UNITED STATES OF AMERICA\", \"NumReactor\": 2}, {\"Country\": \"UKRAINE\", \"NumReactor\": 3}, {\"Country\": \"FRANCE\", \"NumReactor\": 2}, {\"Country\": \"FRANCE\", \"NumReactor\": 2}, {\"Country\": \"UNITED STATES OF AMERICA\", \"NumReactor\": 2}, {\"Country\": \"GERMANY\", \"NumReactor\": 1}, {\"Country\": \"UNITED STATES OF AMERICA\", \"NumReactor\": 2}, {\"Country\": \"UNITED STATES OF AMERICA\", \"NumReactor\": 2}, {\"Country\": \"CHINA\", \"NumReactor\": 2}, {\"Country\": \"JAPAN\", \"NumReactor\": 4}, {\"Country\": \"INDIA\", \"NumReactor\": 4}, {\"Country\": \"CZECH REPUBLIC\", \"NumReactor\": 2}, {\"Country\": \"UNITED STATES OF AMERICA\", \"NumReactor\": 2}, {\"Country\": \"GERMANY\", \"NumReactor\": 1}, {\"Country\": \"CHINA\", \"NumReactor\": 2}, {\"Country\": \"BELGIUM\", \"NumReactor\": 3}, {\"Country\": \"JAPAN\", \"NumReactor\": 2}, {\"Country\": \"JAPAN\", \"NumReactor\": 3}, {\"Country\": \"UNITED KINGDOM\", \"NumReactor\": 2}, {\"Country\": \"UNITED KINGDOM\", \"NumReactor\": 2}, {\"Country\": \"FRANCE\", \"NumReactor\": 4}, {\"Country\": \"SPAIN\", \"NumReactor\": 1}, {\"Country\": \"UNITED STATES OF AMERICA\", \"NumReactor\": 1}, {\"Country\": \"JAPAN\", \"NumReactor\": 2}, {\"Country\": \"UNITED STATES OF AMERICA\", \"NumReactor\": 2}, {\"Country\": \"KOREA, REPUBLIC OF\", \"NumReactor\": 6}, {\"Country\": \"GERMANY\", \"NumReactor\": 1}, {\"Country\": \"GERMANY\", \"NumReactor\": 1}, {\"Country\": \"UNITED STATES OF AMERICA\", \"NumReactor\": 1}, {\"Country\": \"SPAIN\", \"NumReactor\": 2}, {\"Country\": \"UNITED STATES OF AMERICA\", \"NumReactor\": 1}, {\"Country\": \"RUSSIAN FEDERATION\", \"NumReactor\": 2}, {\"Country\": \"UNITED STATES OF AMERICA\", \"NumReactor\": 1}, {\"Country\": \"UNITED STATES OF AMERICA\", \"NumReactor\": 2}, {\"Country\": \"RUSSIAN FEDERATION\", \"NumReactor\": 4}, {\"Country\": \"UNITED STATES OF AMERICA\", \"NumReactor\": 1}, {\"Country\": \"UNITED STATES OF AMERICA\", \"NumReactor\": 2}, {\"Country\": \"UNITED KINGDOM\", \"NumReactor\": 1}, {\"Country\": \"UNITED STATES OF AMERICA\", \"NumReactor\": 1}, {\"Country\": \"KOREA, REPUBLIC OF\", \"NumReactor\": 4}, {\"Country\": \"GERMANY\", \"NumReactor\": 1}, {\"Country\": \"UNITED KINGDOM\", \"NumReactor\": 2}, {\"Country\": \"CHINA\", \"NumReactor\": 3}, {\"Country\": \"UNITED STATES OF AMERICA\", \"NumReactor\": 1}, {\"Country\": \"KOREA, REPUBLIC OF\", \"NumReactor\": 6}, {\"Country\": \"UKRAINE\", \"NumReactor\": 6}, {\"Country\": \"UNITED STATES OF AMERICA\", \"NumReactor\": 2}]}}, {\"mode\": \"vega-lite\"});\n",
              "</script>"
            ]
          },
          "metadata": {
            "tags": []
          },
          "execution_count": 17
        }
      ]
    },
    {
      "cell_type": "code",
      "metadata": {
        "id": "5DNFvoygL7Bc"
      },
      "source": [
        ""
      ],
      "execution_count": null,
      "outputs": []
    }
  ]
}